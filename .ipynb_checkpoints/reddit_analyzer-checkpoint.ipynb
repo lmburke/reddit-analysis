{
 "cells": [
  {
   "cell_type": "markdown",
   "metadata": {},
   "source": [
    "# Analyze Reddit data"
   ]
  },
  {
   "cell_type": "markdown",
   "metadata": {},
   "source": [
    "### Import packages"
   ]
  },
  {
   "cell_type": "code",
   "execution_count": 1,
   "metadata": {
    "collapsed": true
   },
   "outputs": [],
   "source": [
    "import numpy as np\n",
    "import pandas as pd\n",
    "import re\n",
    "import praw\n",
    "\n",
    "from secrets import *\n",
    "reddit = praw.Reddit(client_id=CLIENT_ID,\n",
    "                     client_secret=CLIENT_SECRET,\n",
    "                     user_agent=USER_AGENT)\n",
    "\n",
    "from praw_utils import *"
   ]
  },
  {
   "cell_type": "markdown",
   "metadata": {},
   "source": [
    "### Find today's most active subreddits\n",
    "Use `requests` and `BeautifulSoup` to parse the [RedditList.com](http://redditlist.com/) subreddits, ranked on recent activity."
   ]
  },
  {
   "cell_type": "code",
   "execution_count": 10,
   "metadata": {},
   "outputs": [
    {
     "name": "stdout",
     "output_type": "stream",
     "text": [
      "['AskReddit', 'gaming', 'politics', 'The_Donald', 'nba']\n"
     ]
    }
   ],
   "source": [
    "import requests\n",
    "from bs4 import BeautifulSoup\n",
    "\n",
    "page = requests.get('http://redditlist.com/')\n",
    "soup = BeautifulSoup(page.content, 'lxml')\n",
    "\n",
    "first_link = soup.find_all('div', class_='span4 listing')\n",
    "\n",
    "second_link = []\n",
    "for link in first_link:\n",
    "    second_link.extend(link.find_all('div', class_=\"listing-item\"))\n",
    "\n",
    "third_link = []\n",
    "for link in second_link:\n",
    "    third_link.extend(link.find('span', class_=\"subreddit-url\"))\n",
    "\n",
    "subreddits = []\n",
    "for link in third_link:\n",
    "    subreddits.append(link.string.strip())\n",
    "\n",
    "subreddits = list(filter(None, subreddits))\n",
    "\n",
    "print(subreddits[:5])"
   ]
  },
  {
   "cell_type": "markdown",
   "metadata": {},
   "source": [
    "### Load top comments from the most active subreddits"
   ]
  },
  {
   "cell_type": "code",
   "execution_count": 11,
   "metadata": {},
   "outputs": [
    {
     "data": {
      "text/html": [
       "<div>\n",
       "<style>\n",
       "    .dataframe thead tr:only-child th {\n",
       "        text-align: right;\n",
       "    }\n",
       "\n",
       "    .dataframe thead th {\n",
       "        text-align: left;\n",
       "    }\n",
       "\n",
       "    .dataframe tbody tr th {\n",
       "        vertical-align: top;\n",
       "    }\n",
       "</style>\n",
       "<table border=\"1\" class=\"dataframe\">\n",
       "  <thead>\n",
       "    <tr style=\"text-align: right;\">\n",
       "      <th></th>\n",
       "      <th>body</th>\n",
       "      <th>author</th>\n",
       "      <th>created_utc</th>\n",
       "      <th>Subreddit</th>\n",
       "    </tr>\n",
       "  </thead>\n",
       "  <tbody>\n",
       "    <tr>\n",
       "      <th>0</th>\n",
       "      <td>The tallest giraffe ever measured (George) was...</td>\n",
       "      <td>FlorenceCattleya</td>\n",
       "      <td>1.511035e+09</td>\n",
       "      <td>AskReddit</td>\n",
       "    </tr>\n",
       "    <tr>\n",
       "      <th>1</th>\n",
       "      <td>It would take 1.2 million mosquitoes, each suc...</td>\n",
       "      <td>pm_me_anythingg_sfw</td>\n",
       "      <td>1.511026e+09</td>\n",
       "      <td>AskReddit</td>\n",
       "    </tr>\n",
       "    <tr>\n",
       "      <th>2</th>\n",
       "      <td>Britain had more planes at the end of the Batt...</td>\n",
       "      <td>ALittleNightMusing</td>\n",
       "      <td>1.511033e+09</td>\n",
       "      <td>AskReddit</td>\n",
       "    </tr>\n",
       "    <tr>\n",
       "      <th>3</th>\n",
       "      <td>In the year 8,000 B.C., there were only 5 mill...</td>\n",
       "      <td>lucatobassco</td>\n",
       "      <td>1.511033e+09</td>\n",
       "      <td>AskReddit</td>\n",
       "    </tr>\n",
       "    <tr>\n",
       "      <th>4</th>\n",
       "      <td>43% of pilots admit to falling asleep during f...</td>\n",
       "      <td>sujoli</td>\n",
       "      <td>1.511026e+09</td>\n",
       "      <td>AskReddit</td>\n",
       "    </tr>\n",
       "  </tbody>\n",
       "</table>\n",
       "</div>"
      ],
      "text/plain": [
       "                                                body               author  \\\n",
       "0  The tallest giraffe ever measured (George) was...     FlorenceCattleya   \n",
       "1  It would take 1.2 million mosquitoes, each suc...  pm_me_anythingg_sfw   \n",
       "2  Britain had more planes at the end of the Batt...   ALittleNightMusing   \n",
       "3  In the year 8,000 B.C., there were only 5 mill...         lucatobassco   \n",
       "4  43% of pilots admit to falling asleep during f...               sujoli   \n",
       "\n",
       "    created_utc  Subreddit  \n",
       "0  1.511035e+09  AskReddit  \n",
       "1  1.511026e+09  AskReddit  \n",
       "2  1.511033e+09  AskReddit  \n",
       "3  1.511033e+09  AskReddit  \n",
       "4  1.511026e+09  AskReddit  "
      ]
     },
     "execution_count": 11,
     "metadata": {},
     "output_type": "execute_result"
    }
   ],
   "source": [
    "subreddit = subreddits.pop(0)\n",
    "data, _, _ = load_data(reddit, subreddit, limit_subs=5)\n",
    "data['Subreddit'] = subreddit\n",
    "for _ in range(5-1):\n",
    "    subreddit = subreddits.pop(0)\n",
    "    subdata, _, _ = load_data(reddit, subreddit, limit_subs=5)\n",
    "    subdata['Subreddit'] = subreddit\n",
    "    data.append(subdata)\n",
    "data.head()"
   ]
  },
  {
   "cell_type": "code",
   "execution_count": null,
   "metadata": {
    "collapsed": true
   },
   "outputs": [],
   "source": []
  }
 ],
 "metadata": {
  "kernelspec": {
   "display_name": "Python [default]",
   "language": "python",
   "name": "python3"
  },
  "language_info": {
   "codemirror_mode": {
    "name": "ipython",
    "version": 3
   },
   "file_extension": ".py",
   "mimetype": "text/x-python",
   "name": "python",
   "nbconvert_exporter": "python",
   "pygments_lexer": "ipython3",
   "version": "3.6.1"
  }
 },
 "nbformat": 4,
 "nbformat_minor": 2
}
