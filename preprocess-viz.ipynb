{
 "cells": [
  {
   "cell_type": "markdown",
   "metadata": {
    "collapsed": true
   },
   "source": [
    "# Preprocessing and Exploratory Visualization\n"
   ]
  },
  {
   "cell_type": "markdown",
   "metadata": {},
   "source": [
    "## Raw data\n",
    "\n",
    "The raw data file 'data/data_2017.csv' contains two comma-separated columns. The first is the (unicode) text of a comment, and the second is the subreddit in which it was posted. \n",
    "\n",
    "These comments were downloaded from a Google BigQuery public dataset. They are the top 2000 comments in each subreddit (ranked by score) from the top 1000 subreddits (ranked by number of comments) for a total of about 2,000,000 comments. To stay within memory constraints on BigQuery (and to introduce some stochasticity), these are taken from a 10% random sample of all the comments posted to Reddit in October 2017."
   ]
  },
  {
   "cell_type": "code",
   "execution_count": 1,
   "metadata": {},
   "outputs": [
    {
     "name": "stdout",
     "output_type": "stream",
     "text": [
      "Importing data...\n",
      "done in 6.291s\n",
      "                                                      body      subreddit\n",
      "184951        Yes, but it's not supposed to last forever.           DiWHY\n",
      "126137   Everyone in my family plays: 1 rushed TH11 (7/...   ClashOfClans\n",
      "1535222  Absolutely correct. People don't think somethi...  AdviceAnimals\n",
      "507184                                           [deleted]    slavelabour\n",
      "1180399  Hmm, then idk; I only started binding (correct...            ftm\n"
     ]
    }
   ],
   "source": [
    "import numpy as np\n",
    "import pandas as pd\n",
    "from time import time\n",
    "\n",
    "print(\"Importing data...\")\n",
    "t0 = time()\n",
    "data = pd.read_csv('data/data_2017.csv', dtype='str')\n",
    "print(\"done in %0.3fs\" % (time()-t0))\n",
    "\n",
    "print(data.sample(5))\n"
   ]
  },
  {
   "cell_type": "markdown",
   "metadata": {},
   "source": [
    "### View class sizes before preprocessing"
   ]
  },
  {
   "cell_type": "code",
   "execution_count": 2,
   "metadata": {},
   "outputs": [
    {
     "name": "stdout",
     "output_type": "stream",
     "text": [
      "There are 1892353 comments across 1000 subreddits.\n",
      "\n",
      "    num_comments         subreddit\n",
      "0           1262         apolloapp\n",
      "1           1283       exchristian\n",
      "2           1305      circlebroke2\n",
      "3           1312              suns\n",
      "4           1313  shittyaskscience\n",
      "995         2000           writing\n",
      "996         2000           xboxone\n",
      "997         2000         xxfitness\n",
      "998         2000      youtubehaiku\n",
      "999         2000            yugioh\n"
     ]
    },
    {
     "data": {
      "image/png": "[encoded data removed]",
      "text/plain": [
       "<matplotlib.figure.Figure at 0x2cb103cee10>"
      ]
     },
     "metadata": {},
     "output_type": "display_data"
    }
   ],
   "source": [
    "import matplotlib.pyplot as plt\n",
    "import seaborn as sns\n",
    "\n",
    "subs = data.loc[:,'subreddit'].drop_duplicates()\n",
    "\n",
    "# Slice dataframe along those subreddit keywords, save the length of the slice in a dict\n",
    "subsize = {}\n",
    "for subreddit in subs:\n",
    "    subsize[subreddit] = len(data[data['subreddit']==subreddit].index)\n",
    "    \n",
    "# Sort the dict and store in a dataframe\n",
    "sizes = pd.DataFrame(np.array([list(map(int,(sorted(list(subsize.values()))))),\n",
    "                       sorted(subsize, key=lambda x: (subsize[x], x))]).T,\n",
    "                     columns=('num_comments','subreddit'))\n",
    "\n",
    "print(\"There are {} comments across {} subreddits.\".format(sum(sizes['num_comments'].astype(int)),len(subs)))\n",
    "print()\n",
    "\n",
    "# Print subreddits with fewest and greatest numbers of comments\n",
    "print(sizes.iloc[pd.np.r_[:5, -5:0]])\n",
    "\n",
    "sns.distplot(sizes['num_comments'].astype(int), kde=False, hist=True, bins=100);\n",
    "plt.title(\"Distribution of the number of comments over subreddit label\")\n",
    "plt.show()\n"
   ]
  },
  {
   "cell_type": "markdown",
   "metadata": {},
   "source": [
    "## Preprocessing Steps"
   ]
  },
  {
   "cell_type": "markdown",
   "metadata": {},
   "source": [
    "### Remove top non-English-language subreddits\n",
    "These were discovered by hand after filtering non-English characters. In production, this process should be automated."
   ]
  },
  {
   "cell_type": "code",
   "execution_count": 3,
   "metadata": {
    "collapsed": true
   },
   "outputs": [],
   "source": [
    "data = data[data['subreddit'] != 'newsokur']\n",
    "data = data[data['subreddit'] != 'Womad']\n"
   ]
  },
  {
   "cell_type": "markdown",
   "metadata": {},
   "source": [
    "### Remove deleted comments\n",
    "When a comment with children is removed from reddit, it is replaced with one of the dummy comments \"[deleted]\" or \"[removed]\". While the proportion of such removals to the comment section as a whole may be an intriguing feature, we do not explore it here."
   ]
  },
  {
   "cell_type": "code",
   "execution_count": 4,
   "metadata": {},
   "outputs": [
    {
     "name": "stdout",
     "output_type": "stream",
     "text": [
      "3.85% of the comments were deleted or removed before they could be archived.\n"
     ]
    },
    {
     "name": "stderr",
     "output_type": "stream",
     "text": [
      "C:\\Users\\sfzba\\Anaconda3\\lib\\site-packages\\ipykernel\\__main__.py:6: UserWarning: Boolean Series key will be reindexed to match DataFrame index.\n"
     ]
    },
    {
     "name": "stdout",
     "output_type": "stream",
     "text": [
      "These have been removed from the data.\n",
      "\n"
     ]
    }
   ],
   "source": [
    "deleteds = data.body=='[deleted]'\n",
    "removeds = data.body=='[removed]'\n",
    "print('{:.2f}% of the comments were deleted or removed before they could be archived.'.format(\n",
    "    100*(sum(deleteds)+sum(removeds))/len(data.index)))\n",
    "data = data[~deleteds]\n",
    "data = data[~removeds]\n",
    "print('These have been removed from the data.')\n",
    "print()\n"
   ]
  },
  {
   "cell_type": "markdown",
   "metadata": {},
   "source": [
    "### Remove markdown and non-english characters\n",
    "Reddit has a basic markdown syntax (https://www.reddit.com/r/reddit.com/comments/6ewgt/reddit_markdown_primer_or_how_do_you_do_all_that/c03nik6/). These symbols and more are removed from the comments."
   ]
  },
  {
   "cell_type": "code",
   "execution_count": 5,
   "metadata": {},
   "outputs": [
    {
     "name": "stdout",
     "output_type": "stream",
     "text": [
      "Wall time: 1min 47s\n"
     ]
    }
   ],
   "source": [
    "import re\n",
    "\n",
    "# formatting markdown\n",
    "md = re.compile(r\"\"\"\n",
    "                [~#_`\\*\\+\\^=>]+ # common markdown formatting symbols\n",
    "                |&gt;+          # indent \">\" is stored improperly sometimes\n",
    "                \"\"\", re.VERBOSE)\n",
    "# link markdown\n",
    "lk = re.compile(r\"\"\"(\\[(.*?)\\])?\\(.*?\\)| # usual markdown links\n",
    "                \\/[ur]\\/(\\S+)            # reddit-internal links\n",
    "                \"\"\", re.VERBOSE)\n",
    "# currency marks\n",
    "dl = re.compile(r'\\$(\\d*)') # dollar sign\n",
    "br = re.compile(r'£(\\d*)')  # pound sign\n",
    "eu = re.compile(r'€(\\d*)')  # euro sign\n",
    "# percent sign\n",
    "pc = re.compile(r'(\\d*)%')\n",
    "# ampersand\n",
    "am = re.compile(r'&amp;|&')\n",
    "# enforce ASCII alphanumerics (+é) and common punctuation\n",
    "en = re.compile(r'[^\\w\\s,.:;\\-\\'\\\"\\[\\]\\(\\)!\\?\\/\\\\é]+', re.ASCII)\n",
    "\n",
    "def preprocess(text):\n",
    "    text = md.sub(r\"\", text)\n",
    "    text = lk.sub(r\" \\2\\3 \", text)\n",
    "    text = dl.sub(r'\\1 dollars', text)\n",
    "    text = br.sub(r'\\1 pounds', text)\n",
    "    text = eu.sub(r'\\1 euros', text)\n",
    "    text = pc.sub(r'\\1 percent', text)\n",
    "    text = am.sub(r' and ', text)\n",
    "    text = en.sub(r' ', text)\n",
    "    return text    \n",
    "\n",
    "%time data['body'] = data['body'].astype('unicode').apply(preprocess)\n"
   ]
  },
  {
   "cell_type": "markdown",
   "metadata": {},
   "source": [
    "### Remove blank comments\n",
    "After the above processing steps, some comments may be blank."
   ]
  },
  {
   "cell_type": "code",
   "execution_count": 6,
   "metadata": {},
   "outputs": [
    {
     "name": "stdout",
     "output_type": "stream",
     "text": [
      "0.17% of the comments were blank after preprocessing.\n",
      "These have been removed from the data.\n",
      "\n"
     ]
    }
   ],
   "source": [
    "blanks = data['body'].str.contains(r'^[\\s]*$')\n",
    "print('{:.2f}% of the comments were blank after preprocessing.'.format(100*sum(blanks)/len(data.index)))\n",
    "data = data[~blanks]\n",
    "print('These have been removed from the data.')\n",
    "print()\n"
   ]
  },
  {
   "cell_type": "markdown",
   "metadata": {},
   "source": [
    "## Save dataframe to use in later evaluation"
   ]
  },
  {
   "cell_type": "code",
   "execution_count": null,
   "metadata": {
    "collapsed": true
   },
   "outputs": [],
   "source": [
    "data.to_pickle('data/prepped.pkl')"
   ]
  },
  {
   "cell_type": "markdown",
   "metadata": {},
   "source": [
    "## Post-preprocessing Visualizations"
   ]
  },
  {
   "cell_type": "markdown",
   "metadata": {},
   "source": [
    "### Review class sizes\n",
    "It would be better to write this as a function, rather than write out the code twice."
   ]
  },
  {
   "cell_type": "code",
   "execution_count": null,
   "metadata": {},
   "outputs": [],
   "source": [
    "import matplotlib.pyplot as plt\n",
    "import seaborn as sns\n",
    "\n",
    "subsize = {}\n",
    "subs = data.loc[:,'subreddit'].drop_duplicates()\n",
    "for subreddit in subs:\n",
    "    subsize[subreddit] = len(data[data['subreddit']==subreddit].index)\n",
    "sizes = pd.DataFrame(np.array([sorted(list(subsize.values())),\n",
    "                       sorted(subsize, key=lambda x: (subsize[x], x))]).T,\n",
    "                     columns=('num_comments','subreddit'))\n",
    "\n",
    "print(\"There are {} comments across {} subreddits.\".format(sum(sizes['num_comments'].astype(int)),len(subs)))\n",
    "print()\n",
    "\n",
    "print(sizes.iloc[pd.np.r_[:5, -5:0]])\n",
    "\n",
    "sns.distplot(sizes['num_comments'].astype(int), kde=False, hist=True, bins=100);\n",
    "plt.title(\"Distribution of the number of comments over subreddit label\")\n",
    "plt.show()\n"
   ]
  },
  {
   "cell_type": "markdown",
   "metadata": {},
   "source": [
    "### Wordclouds from random subreddits\n",
    "Again, these wordcloud generations should be function calls."
   ]
  },
  {
   "cell_type": "code",
   "execution_count": null,
   "metadata": {},
   "outputs": [],
   "source": [
    "from wordcloud import WordCloud\n",
    "import matplotlib.pyplot as plt\n",
    "from sklearn.preprocessing import LabelEncoder\n",
    "\n",
    "wc = WordCloud(background_color=\"white\", max_words=100)\n",
    "le = LabelEncoder()\n",
    "y = le.fit_transform(data.subreddit)\n",
    "\n",
    "nsubs  = 6\n",
    "nwords = 10\n",
    "\n",
    "for i in np.random.randint(len(data.loc[:,'subreddit'].drop_duplicates())+1, size=nsubs):\n",
    "    wc.generate(data.body[y==i].str.cat(sep=' ')) # tokenized by r\"\\w[\\w']+\"\n",
    "    \n",
    "    plt.imshow(wc, interpolation=\"bilinear\")\n",
    "    plt.axis(\"off\")\n",
    "    plt.title('Wordcloud from /r/{}'.format(le.inverse_transform(i)))\n",
    "    plt.show()\n",
    "    \n",
    "    words = []\n",
    "    freqs = []\n",
    "    for word in wc.words_:\n",
    "        if wc.words_[word]!=0:\n",
    "            words.append(word)\n",
    "            freqs.append(wc.words_[word])\n",
    "    x = range(nwords,0,-1)\n",
    "    plt.barh(x,freqs[:nwords])\n",
    "    plt.yticks(x, np.asarray(words[:nwords]))\n",
    "    plt.title('Word Frequency in /r/{}'.format(le.inverse_transform(i)))\n",
    "    plt.show()\n",
    "    "
   ]
  },
  {
   "cell_type": "markdown",
   "metadata": {
    "collapsed": true
   },
   "source": [
    "### Wordclouds from all subreddits"
   ]
  },
  {
   "cell_type": "code",
   "execution_count": null,
   "metadata": {},
   "outputs": [],
   "source": [
    "from wordcloud import WordCloud\n",
    "import matplotlib.pyplot as plt\n",
    "from sklearn.preprocessing import LabelEncoder\n",
    "\n",
    "wc_all = WordCloud(background_color=\"white\", max_words=100)\n",
    "\n",
    "wc_all.generate(data.body.str.cat(sep=' ')) # tokenized by r\"\\w[\\w']+\"\n",
    "\n",
    "plt.imshow(wc_all, interpolation=\"bilinear\")\n",
    "plt.axis(\"off\")\n",
    "plt.title('Wordcloud from all subreddits')\n",
    "plt.show()\n",
    "\n",
    "words_all = []\n",
    "freqs_all = []\n",
    "for word in wc_all.words_:\n",
    "    if wc_all.words_[word]!=0:\n",
    "        words_all.append(word)\n",
    "        freqs_all.append(wc_all.words_[word])\n",
    "x = range(nwords,0,-1)\n",
    "plt.barh(x,freqs_all[:nwords])\n",
    "plt.yticks(x, np.asarray(words_all[:nwords]))\n",
    "plt.title('Word Frequency in all subreddits')\n",
    "plt.show()\n",
    "    "
   ]
  },
  {
   "cell_type": "markdown",
   "metadata": {},
   "source": [
    "### Wordclouds from /r/gaming and /r/politics"
   ]
  },
  {
   "cell_type": "code",
   "execution_count": null,
   "metadata": {},
   "outputs": [],
   "source": [
    "stops = wc_all.stopwords\n",
    "stops.update(words_all)\n",
    "subs  = ['gaming','politics']\n",
    "nwords = 10\n",
    "\n",
    "for sub in subs:\n",
    "    wc = WordCloud(background_color=\"white\", max_words=20,stopwords=stops)\n",
    "    wc.generate(data.body[data.subreddit==sub].str.cat(sep=' ')) # tokenized by r\"\\w[\\w']+\"\n",
    "    \n",
    "    plt.imshow(wc, interpolation=\"bilinear\")\n",
    "    plt.axis(\"off\")\n",
    "    plt.title('Wordcloud from /r/{}'.format(sub))\n",
    "    plt.show()\n",
    "    \n",
    "    words = []\n",
    "    freqs = []\n",
    "    for word in wc.words_:\n",
    "        if wc.words_[word]!=0:\n",
    "            words.append(word)\n",
    "            freqs.append(wc.words_[word])\n",
    "    x = range(nwords,0,-1)\n",
    "    plt.barh(x,freqs[:nwords])\n",
    "    plt.yticks(x, np.asarray(words[:nwords]))\n",
    "    plt.title('Word frequencies in /r/{}'.format(sub))\n",
    "    plt.show()"
   ]
  },
  {
   "cell_type": "markdown",
   "metadata": {},
   "source": [
    "## Vectorize comments\n",
    "Once the comments are cleaned up, they may be vectorized. The sklearn CountVectorizer is used, but with a custom tokenizer."
   ]
  },
  {
   "cell_type": "markdown",
   "metadata": {},
   "source": [
    "### Custom tokenizer (NLTK)\n",
    "The text is stemmed (so conjugations of words are counted together) using the Natural Language Tool Kit (NLTK) WordNet lemmatizer and a modified NLTK part-of-speech tagger. The NLTK stopwords are discarded."
   ]
  },
  {
   "cell_type": "code",
   "execution_count": null,
   "metadata": {
    "collapsed": true
   },
   "outputs": [],
   "source": [
    "from nltk import word_tokenize\n",
    "from nltk import pos_tag\n",
    "from nltk import wordnet\n",
    "import re\n",
    "from nltk.corpus import stopwords\n",
    "from nltk.stem import WordNetLemmatizer\n",
    "\n",
    "class LemmaTokenizer(object):\n",
    "    def __init__(self):\n",
    "        self.wnl = WordNetLemmatizer()\n",
    "        self.stop = set(stopwords.words('english'))\n",
    "    def __call__(self, doc):\n",
    "        return [t.lower() for t in \n",
    "                [self.wnl.lemmatize(t,self.get_wordnet_pos(t)) for t, pos in pos_tag(word_tokenize(doc))] \n",
    "                if re.match(\"^[a-zA-Z0-9_]*$\", t) and t not in self.stop]\n",
    "    def get_wordnet_pos(self, treebank_tag):\n",
    "        '''https://stackoverflow.com/questions/15586721/, with default noun'''\n",
    "        if treebank_tag.startswith('J'):\n",
    "            return wordnet.wordnet.ADJ\n",
    "        elif treebank_tag.startswith('V'):\n",
    "            return wordnet.wordnet.VERB\n",
    "        elif treebank_tag.startswith('N'):\n",
    "            return wordnet.wordnet.NOUN\n",
    "        elif treebank_tag.startswith('R'):\n",
    "            return wordnet.wordnet.ADV\n",
    "        else:\n",
    "            return wordnet.NOUN\n"
   ]
  },
  {
   "cell_type": "markdown",
   "metadata": {},
   "source": [
    "### Create term count matrix\n",
    "This is the most time-consuming step, taking five to six hours. "
   ]
  },
  {
   "cell_type": "code",
   "execution_count": null,
   "metadata": {},
   "outputs": [],
   "source": [
    "from sklearn.feature_extraction.text import CountVectorizer\n",
    "\n",
    "print(\"Extracting term counts...\")\n",
    "count_vectorizer = CountVectorizer(tokenizer=LemmaTokenizer(), \n",
    "                                stop_words='english',\n",
    "                                max_df=0.5, # Do not include words if they are in over half the comments\n",
    "                                min_df=2,   # Do not include words if they are in only one comment\n",
    "                                )\n",
    "t0 = time()\n",
    "cts = count_vectorizer.fit_transform(data['body'].astype('unicode'))\n",
    "print(\"done in %0.3fs.\" % (time() - t0))\n",
    "print()\n",
    "\n",
    "# Save results for quick iteration\n",
    "import pickle\n",
    "with open('data/feature_names.pkl', 'wb') as fp:\n",
    "    pickle.dump(count_vectorizer.get_feature_names(), fp)\n",
    "from scipy.sparse import save_npz\n",
    "save_npz('data/term_counts.npz', cts)\n",
    "\n",
    "\n",
    "# #  Alternative to above text block:\n",
    "# from scipy.sparse import load_npz\n",
    "# cts = load_npz('data/term_counts.npz')\n"
   ]
  },
  {
   "cell_type": "markdown",
   "metadata": {},
   "source": [
    "### Create frequency matrices\n",
    "The term frequency and inverse document frequency matrices are computed from the term count matrix."
   ]
  },
  {
   "cell_type": "code",
   "execution_count": null,
   "metadata": {},
   "outputs": [],
   "source": [
    "from sklearn.feature_extraction.text import TfidfTransformer\n",
    "\n",
    "print(\"Extracting term frequency features...\")\n",
    "\n",
    "# Create tf matrix\n",
    "print(\"tf...\")\n",
    "tf_transformer = TfidfTransformer(norm='l2', use_idf=False)\n",
    "t0 = time()\n",
    "tf = tf_transformer.fit_transform(cts)\n",
    "print(\"done in %0.3fs.\" % (time() - t0))\n",
    "print()\n",
    "\n",
    "# Create tf/idf matrix\n",
    "print(\"tfidf...\")\n",
    "tfidf_transformer = TfidfTransformer(norm='l2', use_idf=True)\n",
    "t0 = time()\n",
    "tfidf = tfidf_transformer.fit_transform(cts)\n",
    "print(\"done in %0.3fs.\" % (time() - t0))\n",
    "print()\n",
    "\n",
    "\n",
    "# Save results for quick iteration\n",
    "from scipy.sparse import save_npz\n",
    "save_npz('data/tf.npz', tf)\n",
    "save_npz('data/tfidf.npz', tfidf)\n",
    "\n",
    "\n",
    "#  Alternative to above text block:\n",
    "# from scipy.sparse import load_npz\n",
    "# tf = load_npz('data/tf.npz')\n",
    "# tfidf = load_npz('data/tfidf.npz')\n"
   ]
  },
  {
   "cell_type": "markdown",
   "metadata": {},
   "source": [
    "## Validate saved files"
   ]
  },
  {
   "cell_type": "code",
   "execution_count": null,
   "metadata": {},
   "outputs": [],
   "source": [
    "from scipy.sparse import load_npz\n",
    "import pickle\n",
    "\n",
    "print(\"Importing data...\")\n",
    "t0 = time()\n",
    "data_val = pd.read_pickle('data/prepped.pkl')\n",
    "with open('data/feature_names.pkl', 'rb') as fp:\n",
    "    feature_names_val = pickle.load(fp)\n",
    "cts_val = load_npz('data/term_counts.npz')\n",
    "tf_val = load_npz('data/tf.npz')\n",
    "tfidf_val = load_npz('data/tfidf.npz')\n",
    "print(\"done in %0.3fs\" % (time()-t0))\n",
    "\n",
    "print()\n",
    "\n",
    "n_comments = data_val.shape[0]\n",
    "print(\"There are %0.f comments.\" % n_comments)\n",
    "if cts_val.shape[0] != n_comments: print(\"Count matrix has too few rows: %0.0f\" % cts_val.shape[0])\n",
    "if tf_val.shape[0] != n_comments: print(\"TF matrix has too few rows: %0.0f\" % tf_val.shape[0])\n",
    "if tfidf_val.shape[0] != n_comments: print(\"TF/IDF matrix has too few rows: %0.0f\" % tfidf_val.shape[0])\n",
    "\n",
    "print()\n",
    "\n",
    "n_words = len(feature_names_val)\n",
    "print(\"There are %0.f words counted.\" % n_words)\n",
    "if cts_val.shape[1] != n_words: print(\"Count matrix has too few columns: %0.0f\" % cts_val.shape[1])\n",
    "if tf_val.shape[1] != n_words: print(\"TF matrix has too few columns: %0.0f\" % tf_val.shape[1])\n",
    "if tfidf_val.shape[1] != n_words: print(\"TF/IDF matrix has too few columns: %0.0f\" % tfidf_val.shape[1])\n"
   ]
  },
  {
   "cell_type": "markdown",
   "metadata": {},
   "source": [
    "## Repeat above processing with agglomeration\n",
    "Combine all comments from each subreddit into a single string, then repeat the vectorization process."
   ]
  },
  {
   "cell_type": "code",
   "execution_count": null,
   "metadata": {},
   "outputs": [],
   "source": [
    "from sklearn.feature_extraction.text import TfidfTransformer\n",
    "from sklearn.feature_extraction.text import CountVectorizer\n",
    "\n",
    "count_vectorizer = CountVectorizer(tokenizer=LemmaTokenizer(), \n",
    "                                stop_words='english',\n",
    "                                max_df=0.5, # Do not include words if they are in over half the comments\n",
    "                                min_df=2,   # Do not include words if they are in only one comment\n",
    "                                )\n",
    "tf_transformer = TfidfTransformer(norm='l2', use_idf=False)\n",
    "tfidf_transformer = TfidfTransformer(norm='l2', use_idf=True)\n",
    "\n",
    "print(\"Combining subreddit comments into a single string...\"\n",
    "t0 = time()\n",
    "data_comments = data\n",
    "data = pd.DataFrame(columns=['body','subreddit'])\n",
    "for idx, sub in enumerate(data_comments.loc[:,'subreddit'].drop_duplicates()):\n",
    "    data.loc[idx] = [data_comments.body[\n",
    "        data_comments['subreddit']==sub].astype('unicode').str.cat(sep=' '), sub]\n",
    "print(\"done in %.3fs.\" % (time()-t0))\n",
    "\n",
    "print(\"Extracting term counts...\")\n",
    "t0 = time()\n",
    "cts = count_vectorizer.fit_transform(data['body'].astype('unicode'))\n",
    "print(\"done in %0.3fs.\" % (time() - t0))\n",
    "print()\n",
    "\n",
    "print(\"Extracting term frequency features...\")\n",
    "\n",
    "print(\"tf...\")\n",
    "t0 = time()\n",
    "tf = tf_transformer.fit_transform(cts)\n",
    "print(\"done in %0.3fs.\" % (time() - t0))\n",
    "print()\n",
    "\n",
    "print(\"tfidf...\")\n",
    "t0 = time()\n",
    "tfidf = tfidf_transformer.fit_transform(cts)\n",
    "print(\"done in %0.3fs.\" % (time() - t0))\n",
    "print()\n",
    "\n",
    "\n",
    "# Save results for quick iteration\n",
    "data.to_pickle('data/prepped_sub.pkl')\n",
    "with open('data/feature_names_sub.pkl', 'wb') as fp:\n",
    "    pickle.dump(count_vectorizer.get_feature_names(), fp)\n",
    "save_npz('data/term_counts_sub.npz', cts)\n",
    "save_npz('data/tf_sub.npz', tf)\n",
    "save_npz('data/tfidf_sub.npz', tfidf)\n"
   ]
  },
  {
   "cell_type": "code",
   "execution_count": null,
   "metadata": {
    "collapsed": true
   },
   "outputs": [],
   "source": [
    "data.to_pickle('data/prepped_sub.pkl')\n"
   ]
  },
  {
   "cell_type": "code",
   "execution_count": null,
   "metadata": {
    "collapsed": true
   },
   "outputs": [],
   "source": []
  }
 ],
 "metadata": {
  "kernelspec": {
   "display_name": "Python [default]",
   "language": "python",
   "name": "python3"
  },
  "language_info": {
   "codemirror_mode": {
    "name": "ipython",
    "version": 3
   },
   "file_extension": ".py",
   "mimetype": "text/x-python",
   "name": "python",
   "nbconvert_exporter": "python",
   "pygments_lexer": "ipython3",
   "version": "3.6.1"
  }
 },
 "nbformat": 4,
 "nbformat_minor": 2
}
