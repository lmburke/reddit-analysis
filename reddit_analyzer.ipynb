{
 "cells": [
  {
   "cell_type": "markdown",
   "metadata": {},
   "source": [
    "# Analyze Reddit data"
   ]
  },
  {
   "cell_type": "markdown",
   "metadata": {},
   "source": [
    "### Import packages"
   ]
  },
  {
   "cell_type": "code",
   "execution_count": 1,
   "metadata": {
    "collapsed": true
   },
   "outputs": [],
   "source": [
    "import numpy as np\n",
    "import pandas as pd\n",
    "import re\n",
    "import praw\n",
    "\n",
    "from reddit_utils import *\n",
    "from secrets import *\n"
   ]
  },
  {
   "cell_type": "markdown",
   "metadata": {},
   "source": [
    "### Load top comments from the most active subreddits"
   ]
  },
  {
   "cell_type": "code",
   "execution_count": 4,
   "metadata": {},
   "outputs": [
    {
     "name": "stdout",
     "output_type": "stream",
     "text": [
      "Wall time: 3.01 ms\n",
      "\n",
      "Wall time: 8.18 s\n",
      "['AskReddit', 'politics', 'The_Donald', 'news', 'nba']\n",
      "\n",
      "Wall time: 4min 17s\n",
      "                                                body  subreddit\n",
      "0  I have a great uncle that is a walking, talkin...  AskReddit\n",
      "1  The one who’s serving life for murdering her t...  AskReddit\n",
      "2  My biological uncle Troy. I've only met him a ...  AskReddit\n",
      "3  I have this one uncle that always slaps mine a...  AskReddit\n",
      "4  My great aunt by marriage is a heinous, social...  AskReddit\n",
      "\n",
      "0     AskReddit\n",
      "0      politics\n",
      "0    The_Donald\n",
      "0          news\n",
      "0           nba\n",
      "Name: subreddit, dtype: object\n"
     ]
    }
   ],
   "source": [
    "%time reddit = praw.Reddit(client_id=CLIENT_ID, \\\n",
    "                           client_secret=CLIENT_SECRET, \\\n",
    "                           user_agent=USER_AGENT)\n",
    "print()\n",
    "\n",
    "%time subreddits = subredditList(ranking='activity', nsubs=5)\n",
    "print(subreddits)\n",
    "print()\n",
    "\n",
    "%time data = load_data(reddit, subreddits, columns=[])\n",
    "print(data.head())\n",
    "print()\n",
    "print(data.loc[:,'subreddit'].drop_duplicates())\n"
   ]
  },
  {
   "cell_type": "markdown",
   "metadata": {},
   "source": [
    "### Classification\n",
    "- TF-IDF\n",
    "- Multinomial Naive Bayes\n",
    "- 10-fold cross validation"
   ]
  },
  {
   "cell_type": "code",
   "execution_count": 5,
   "metadata": {},
   "outputs": [
    {
     "name": "stdout",
     "output_type": "stream",
     "text": [
      "Train time: 1.42 (+/- 0.09)\n",
      "Score time: 0.15 (+/- 0.05)\n",
      "Accuracy  : 0.67 (+/- 0.05)\n"
     ]
    }
   ],
   "source": [
    "from sklearn.preprocessing import LabelEncoder\n",
    "from sklearn.feature_extraction.text import TfidfVectorizer\n",
    "from sklearn.naive_bayes import MultinomialNB\n",
    "from sklearn.pipeline import Pipeline\n",
    "from sklearn.model_selection import cross_validate\n",
    "\n",
    "X = data.body\n",
    "le = LabelEncoder()\n",
    "y = le.fit_transform(data.subreddit)\n",
    "\n",
    "vectorizer = TfidfVectorizer(strip_accents='ascii', # default None\n",
    "                             stop_words='english', # default None\n",
    "                            )\n",
    "clf = MultinomialNB()\n",
    "tfidf_multinomialNB = Pipeline([('tfidf', vectorizer), ('MultiNB', clf)])\n",
    "\n",
    "scores = cross_validate(tfidf_multinomialNB, X, y, cv=10, return_train_score=False)\n",
    "\n",
    "print(\"Train time: %0.2f (+/- %0.2f)\" % (scores['fit_time'].mean(), scores['fit_time'].std() * 2))\n",
    "print(\"Score time: %0.2f (+/- %0.2f)\" % (scores['score_time'].mean(), scores['score_time'].std() * 2))\n",
    "print(\"Accuracy  : %0.2f (+/- %0.2f)\" % (scores['test_score'].mean(), scores['test_score'].std() * 2))"
   ]
  },
  {
   "cell_type": "code",
   "execution_count": null,
   "metadata": {
    "collapsed": true
   },
   "outputs": [],
   "source": []
  }
 ],
 "metadata": {
  "kernelspec": {
   "display_name": "Python 3",
   "language": "python",
   "name": "python3"
  },
  "language_info": {
   "codemirror_mode": {
    "name": "ipython",
    "version": 3
   },
   "file_extension": ".py",
   "mimetype": "text/x-python",
   "name": "python",
   "nbconvert_exporter": "python",
   "pygments_lexer": "ipython3",
   "version": "3.5.2"
  }
 },
 "nbformat": 4,
 "nbformat_minor": 2
}
