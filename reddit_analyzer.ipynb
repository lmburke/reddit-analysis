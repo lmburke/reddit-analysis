{
 "cells": [
  {
   "cell_type": "markdown",
   "metadata": {},
   "source": [
    "# Analyze Reddit data"
   ]
  },
  {
   "cell_type": "markdown",
   "metadata": {},
   "source": [
    "### Import packages"
   ]
  },
  {
   "cell_type": "code",
   "execution_count": null,
   "metadata": {
    "collapsed": true
   },
   "outputs": [],
   "source": [
    "import numpy as np\n",
    "import pandas as pd\n",
    "import re\n",
    "import praw\n",
    "\n",
    "from reddit_utils import *\n",
    "from secrets import *\n"
   ]
  },
  {
   "cell_type": "markdown",
   "metadata": {},
   "source": [
    "### Load top comments from the most active subreddits"
   ]
  },
  {
   "cell_type": "code",
   "execution_count": null,
   "metadata": {},
   "outputs": [
    {
     "name": "stdout",
     "output_type": "stream",
     "text": [
      "Version 5.2.0 of praw is outdated. Version 5.3.0 was released Sunday December 17, 2017.\n",
      "Wall time: 140 ms\n",
      "\n",
      "Wall time: 8.32 s\n",
      "['AskReddit', 'politics', 'The_Donald', 'worldnews', 'nba']\n",
      "\n"
     ]
    }
   ],
   "source": [
    "%time reddit = praw.Reddit(client_id=CLIENT_ID, \\\n",
    "                           client_secret=CLIENT_SECRET, \\\n",
    "                           user_agent=USER_AGENT)\n",
    "print()\n",
    "\n",
    "%time subreddits = subredditList(ranking='activity', nsubs=5)\n",
    "print(subreddits)\n",
    "print()\n",
    "\n",
    "%time data = load_data(reddit, subreddits, columns=[])\n",
    "print(data.head())\n",
    "print()\n",
    "print(data.loc[:,'subreddit'].drop_duplicates())\n"
   ]
  },
  {
   "cell_type": "markdown",
   "metadata": {},
   "source": [
    "### Classification\n",
    "- TF-IDF\n",
    "- Multinomial Naive Bayes\n",
    "- 10-fold cross validation"
   ]
  },
  {
   "cell_type": "code",
   "execution_count": null,
   "metadata": {},
   "outputs": [],
   "source": [
    "from sklearn.preprocessing import LabelEncoder\n",
    "from sklearn.feature_extraction.text import TfidfVectorizer\n",
    "from sklearn.naive_bayes import MultinomialNB\n",
    "from sklearn.pipeline import Pipeline\n",
    "from sklearn.model_selection import cross_validate\n",
    "\n",
    "X = data.body\n",
    "le = LabelEncoder()\n",
    "y = le.fit_transform(data.subreddit)\n",
    "\n",
    "vectorizer = TfidfVectorizer(strip_accents='ascii', # default None\n",
    "                             stop_words='english', # default None\n",
    "                            )\n",
    "clf = MultinomialNB()\n",
    "tfidf_multinomialNB = Pipeline([('tfidf', vectorizer), ('MultiNB', clf)])\n",
    "\n",
    "scores = cross_validate(tfidf_multinomialNB, X, y, cv=10, return_train_score=False)\n",
    "\n",
    "print(\"Train time: %0.2f (+/- %0.2f)\" % (scores['fit_time'].mean(), scores['fit_time'].std() * 2))\n",
    "print(\"Score time: %0.2f (+/- %0.2f)\" % (scores['score_time'].mean(), scores['score_time'].std() * 2))\n",
    "print(\"Accuracy  : %0.2f (+/- %0.2f)\" % (scores['test_score'].mean(), scores['test_score'].std() * 2))\n"
   ]
  },
  {
   "cell_type": "code",
   "execution_count": null,
   "metadata": {
    "collapsed": true
   },
   "outputs": [],
   "source": [
    "from sklearn.feature_extraction.text import TfidfVectorizer\n",
    "from sklearn.decomposition import TruncatedSVD\n",
    "from sklearn.cluster import KMeans\n",
    "from sklearn.metrics import silhouette_score\n",
    "\n",
    "X = data.body\n",
    "X_tfidf = vectorizer.fit_transform(X)\n",
    "\n",
    "svd = TruncatedSVD(1000)\n",
    "X_svd = svd.fit_transform(X_tfidf)\n",
    "\n",
    "clusterer = KMeans(n_clusters=10, random_state=0)\n",
    "clusterer.fit(X_svd)\n",
    "preds = clusterer.predict(X_svd)\n",
    "\n",
    "score = silhouette_score(X_svd, preds)\n"
   ]
  }
 ],
 "metadata": {
  "kernelspec": {
   "display_name": "Python [default]",
   "language": "python",
   "name": "python3"
  },
  "language_info": {
   "codemirror_mode": {
    "name": "ipython",
    "version": 3
   },
   "file_extension": ".py",
   "mimetype": "text/x-python",
   "name": "python",
   "nbconvert_exporter": "python",
   "pygments_lexer": "ipython3",
   "version": "3.6.1"
  }
 },
 "nbformat": 4,
 "nbformat_minor": 2
}
